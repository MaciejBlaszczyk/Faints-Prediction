{
 "cells": [
  {
   "cell_type": "code",
   "execution_count": 1,
   "metadata": {},
   "outputs": [
    {
     "name": "stdout",
     "output_type": "stream",
     "text": [
      "1/1 [==============================] - 0s 5ms/step - loss: 0.9219\n",
      "1/1 [==============================] - 0s 1ms/step - loss: 3.8296\n"
     ]
    }
   ],
   "source": [
    "import tensorflow as tf\n",
    "from tensorflow.keras.layers import Dense\n",
    "from tensorflow.keras.models import Model\n",
    "from tensorflow.keras.optimizers import Adam\n",
    "\n",
    "def custom_loss(y_pred, y_true):\n",
    "    diff = y_pred - y_true\n",
    "    return tf.keras.backend.square(diff)  # Breakpoint in IDE here. =====\n",
    "\n",
    "class SimpleModel(Model):\n",
    "\n",
    "    def __init__(self):\n",
    "        super().__init__()\n",
    "        self.dense0 = Dense(2)\n",
    "        self.dense1 = Dense(1)\n",
    "\n",
    "    def call(self, inputs):\n",
    "        z = self.dense0(inputs)\n",
    "        z = self.dense1(z)\n",
    "        return z\n",
    "\n",
    "x = tf.convert_to_tensor([[1, 2, 3], [4, 5, 6]], dtype=tf.float32)\n",
    "y = tf.convert_to_tensor([0, 1], dtype=tf.float32)\n",
    "\n",
    "model0 = SimpleModel()\n",
    "model0.run_eagerly = True\n",
    "model0.compile(optimizer=Adam(), loss=custom_loss)\n",
    "y0 = model0.fit(x, y, epochs=1)  # Values of diff *not* shown at breakpoint. =====\n",
    "\n",
    "model1 = SimpleModel()\n",
    "model1.compile(optimizer=Adam(), loss=custom_loss)\n",
    "model1.run_eagerly = True\n",
    "y1 = model1.fit(x, y, epochs=1)  # Values of diff shown at breakpoint. ====="
   ]
  }
 ],
 "metadata": {
  "kernelspec": {
   "display_name": "Python 3",
   "language": "python",
   "name": "python3"
  },
  "language_info": {
   "codemirror_mode": {
    "name": "ipython",
    "version": 3
   },
   "file_extension": ".py",
   "mimetype": "text/x-python",
   "name": "python",
   "nbconvert_exporter": "python",
   "pygments_lexer": "ipython3",
   "version": "3.7.3"
  }
 },
 "nbformat": 4,
 "nbformat_minor": 2
}
