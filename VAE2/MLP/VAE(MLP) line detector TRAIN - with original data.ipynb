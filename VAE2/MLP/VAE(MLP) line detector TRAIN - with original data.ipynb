{
 "cells": [
  {
   "cell_type": "code",
   "execution_count": 1,
   "metadata": {},
   "outputs": [],
   "source": [
    "#Skalowanie daje slabe wyniki, bez skalowania jest duzo lepiej\n",
    "#batch normalization polepszylo znaczaco wyniki\n",
    "#"
   ]
  },
  {
   "cell_type": "code",
   "execution_count": 2,
   "metadata": {},
   "outputs": [],
   "source": [
    "import warnings\n",
    "warnings.filterwarnings('ignore')\n",
    "import os\n",
    "os.environ['TF_CPP_MIN_LOG_LEVEL'] = '3' \n",
    "# Seed value\n",
    "# Apparently you may use different seed values at each stage\n",
    "# seed_value= 0\n",
    "\n",
    "# 1. Set the `PYTHONHASHSEED` environment variable at a fixed value\n",
    "# os.environ['PYTHONHASHSEED']=str(seed_value)\n",
    "\n",
    "# 2. Set the `python` built-in pseudo-random generator at a fixed value\n",
    "import random\n",
    "# random.seed(seed_value)\n",
    "\n",
    "# 3. Set the `numpy` pseudo-random generator at a fixed value\n",
    "import numpy as np\n",
    "# np.random.seed(seed_value)\n",
    "\n",
    "# 4. Set the `tensorflow` pseudo-random generator at a fixed value\n",
    "import tensorflow as tf\n",
    "# tf.compat.v1.set_random_seed(seed_value)\n",
    "# for later versions: \n",
    "# tf.compat.v1.set_random_seed(seed_value)\n",
    "\n",
    "# 5. Configure a new global `tensorflow` session\n",
    "from tensorflow.keras import backend as K\n",
    "# session_conf = tf.compat.v1.ConfigProto(intra_op_parallelism_threads=1, inter_op_parallelism_threads=1)\n",
    "# sess = tf.compat.v1.Session(graph=tf.compat.v1.get_default_graph(), config=session_conf)\n",
    "# tf.compat.v1.keras.backend.set_session(sess)"
   ]
  },
  {
   "cell_type": "code",
   "execution_count": 11,
   "metadata": {},
   "outputs": [],
   "source": [
    "tf.get_logger().setLevel('INFO')\n",
    "from tensorflow.keras.datasets import mnist\n",
    "from tensorflow.keras.layers import Input, Dense, Lambda, BatchNormalization\n",
    "from tensorflow.keras.models import Model\n",
    "from tensorflow.keras.losses import MSE\n",
    "from tensorflow.keras.optimizers import Adam\n",
    "import matplotlib.pyplot as plt\n",
    "from sklearn.decomposition import PCA\n",
    "from sklearn.metrics import davies_bouldin_score, calinski_harabasz_score\n",
    "import pandas as pd\n",
    "from sklearn.preprocessing import MinMaxScaler"
   ]
  },
  {
   "cell_type": "markdown",
   "metadata": {},
   "source": [
    "# Load Original Data"
   ]
  },
  {
   "cell_type": "code",
   "execution_count": 9,
   "metadata": {},
   "outputs": [],
   "source": [
    "path = \"C:/Users/OPTIMUSPRIME/Desktop/Studia/Magisterka/Faints-Prediction/\"\n",
    "BP_filename = \"BP.csv\"\n",
    "HR_filename = \"HR.csv\"\n",
    "\n",
    "train_indices =  [str(indx[0]) for indx in pd.read_csv(path + \"DATA/training_set.txt\").values.tolist()]\n",
    "test_indices =  [str(indx[0]) for indx in pd.read_csv(path + \"DATA/test_set.txt\").values.tolist()]\n",
    "validation_indices =  [str(indx[0]) for indx in pd.read_csv(path + \"DATA/validation_set.txt\").values.tolist()]\n",
    "all_indices = train_indices + test_indices + validation_indices"
   ]
  },
  {
   "cell_type": "code",
   "execution_count": 12,
   "metadata": {},
   "outputs": [],
   "source": [
    "BP_data = pd.read_csv(path + \"DATA/\" + BP_filename, low_memory=False)[all_indices]\n",
    "HR_data = pd.read_csv(path + \"DATA/\" + HR_filename, low_memory=False)[all_indices]\n",
    "labels = {col: BP_data[col].iloc[0] for col in BP_data}\n",
    "\n",
    "BP_max_value = BP_data.iloc[1:].astype(np.float32).max().max()\n",
    "BP_min_value = BP_data.iloc[1:].astype(np.float32).min().min()\n",
    "HR_max_value = HR_data.iloc[1:].astype(np.float32).max().max()\n",
    "HR_min_value = HR_data.iloc[1:].astype(np.float32).min().min()\n",
    "\n",
    "BP_scaler = MinMaxScaler().fit(np.array([BP_min_value, BP_max_value]).reshape(-1,1))\n",
    "HR_scaler = MinMaxScaler().fit(np.array([HR_min_value, HR_max_value]).reshape(-1,1))\n",
    "\n",
    "BP_data_scaled = BP_data.iloc[1:].astype(np.float32).copy()\n",
    "BP_data_scaled[all_indices] = BP_scaler.transform(BP_data_scaled[all_indices])\n",
    "\n",
    "\n",
    "HR_data_scaled = HR_data.iloc[1:].astype(np.float32).copy()\n",
    "HR_data_scaled[all_indices] = HR_scaler.transform(HR_data_scaled[all_indices])"
   ]
  },
  {
   "cell_type": "code",
   "execution_count": 13,
   "metadata": {},
   "outputs": [],
   "source": [
    "# SMOOTHING\n",
    "BP_data_scaled_averaged = BP_data_scaled.rolling(60).mean()\n",
    "HR_data_scaled_averaged = HR_data_scaled.rolling(60).mean()"
   ]
  },
  {
   "cell_type": "code",
   "execution_count": 18,
   "metadata": {},
   "outputs": [],
   "source": [
    "def sample_timeseries(x):\n",
    "    x = np.array(x)\n",
    "    x = x[~np.isnan(x)]\n",
    "    if x.shape[0] % 32 != 0:\n",
    "        x = x[:-(x.shape[0] % 32)]\n",
    "    return np.array(np.array_split(x, int(len(x)/32)))"
   ]
  },
  {
   "cell_type": "code",
   "execution_count": 19,
   "metadata": {},
   "outputs": [],
   "source": [
    "orig_data_sampled = np.array([])\n",
    "for ind in train_indices:\n",
    "    BP_sampled = sample_timeseries(BP_data_scaled_averaged[ind])\n",
    "    HR_sampled = sample_timeseries(HR_data_scaled_averaged[ind])\n",
    "    BP_HR_sampled = np.concatenate((BP_sampled, HR_sampled))\n",
    "    if orig_data_sampled.size == 0:\n",
    "        orig_data_sampled = BP_HR_sampled\n",
    "    else:\n",
    "        orig_data_sampled = np.concatenate((orig_data_sampled, BP_HR_sampled))"
   ]
  },
  {
   "cell_type": "code",
   "execution_count": 24,
   "metadata": {},
   "outputs": [
    {
     "data": {
      "text/plain": [
       "0.02820449508726597"
      ]
     },
     "execution_count": 24,
     "metadata": {},
     "output_type": "execute_result"
    }
   ],
   "source": [
    "np.amin(orig_data_sampled)"
   ]
  },
  {
   "cell_type": "markdown",
   "metadata": {},
   "source": [
    "# Generate data"
   ]
  },
  {
   "cell_type": "code",
   "execution_count": 36,
   "metadata": {},
   "outputs": [],
   "source": [
    "def generate_line(a, b, n=32, noise=0):\n",
    "    x = np.arange(n)\n",
    "    return a * x + b + np.random.normal(0, noise, n)\n",
    "\n",
    "def generate_lines(a, bs, n_train, c, lines, labels):\n",
    "    for b in bs:\n",
    "        generated_lines = np.array([generate_line(a, b, noise=0.005) for _ in range(int(n_train/16))])\n",
    "        generated_labels = np.array([c for _ in range(int(n_train/16))])\n",
    "        if lines.size == 0:\n",
    "            lines = generated_lines\n",
    "            labels = generated_labels\n",
    "        else:\n",
    "            lines = np.concatenate((lines, generated_lines))\n",
    "            labels = np.concatenate((labels, generated_labels))\n",
    "    return lines, labels\n",
    "    \n",
    "def generate_lines_set(n_train):    \n",
    "    lines = np.array([])\n",
    "    labels = np.array([])\n",
    "\n",
    "    lines, labels = generate_lines(0, [0, .4, .8, 1.2, 1.6, 2], n_train, 'g', lines, labels)\n",
    "    lines, labels = generate_lines(0.01, [.2, .6, 1, 1.4, 1.8], n_train, 'r', lines, labels)\n",
    "    lines, labels = generate_lines(-0.01, [.2, .6, 1, 1.4, 1.8], n_train, 'b', lines, labels)\n",
    "\n",
    "    return np.array(lines), np.array(labels)\n",
    "    "
   ]
  },
  {
   "cell_type": "code",
   "execution_count": 37,
   "metadata": {},
   "outputs": [],
   "source": [
    "n_lines = 64000\n",
    "n_types = 16\n",
    "x_train, y_train = generate_lines_set(64000)"
   ]
  },
  {
   "cell_type": "markdown",
   "metadata": {},
   "source": [
    "# Scale data"
   ]
  },
  {
   "cell_type": "code",
   "execution_count": 38,
   "metadata": {},
   "outputs": [],
   "source": [
    "x_train = (x_train - np.amin(x_train)) / (np.amax(x_train) - np.amin(x_train))\n"
   ]
  },
  {
   "cell_type": "code",
   "execution_count": 30,
   "metadata": {},
   "outputs": [],
   "source": [
    "x_train = np.concatenate((x_train, orig_data_sampled))"
   ]
  },
  {
   "cell_type": "markdown",
   "metadata": {},
   "source": [
    "# Plot data"
   ]
  },
  {
   "cell_type": "code",
   "execution_count": 31,
   "metadata": {},
   "outputs": [
    {
     "name": "stdout",
     "output_type": "stream",
     "text": [
      "4000\n"
     ]
    },
    {
     "data": {
      "image/png": "[encoded data removed]",
      "text/plain": [
       "<Figure size 432x288 with 1 Axes>"
      ]
     },
     "metadata": {
      "needs_background": "light"
     },
     "output_type": "display_data"
    }
   ],
   "source": [
    "index = 10\n",
    "interval = int(n_lines / n_types)\n",
    "print(interval)\n",
    "while index < n_lines:\n",
    "    plt.plot(x_train[index])\n",
    "    index += interval"
   ]
  },
  {
   "cell_type": "markdown",
   "metadata": {},
   "source": [
    "# Create model"
   ]
  },
  {
   "cell_type": "code",
   "execution_count": 32,
   "metadata": {},
   "outputs": [],
   "source": [
    "# BATCH SIZE 64,128,256\n",
    "# LEARNING RATE 0.001, 0.01, 0.005, 0.0005\n",
    "# STDEV 0.1 0.5 0.05\n",
    "# EPOCHS 1 5 10 20\n",
    "# 3 * 4 * 3 * 4 = 144 modele\n",
    "\n",
    "# batch_sizes = [64, 128, 256]\n",
    "# learning_rates = [0.0005, 0.001, 0.005, 0.01]\n",
    "# stdevs = [0.05, 0.1, 0.5]\n",
    "# epochs = [1, 5, 10, 20]\n",
    "\n",
    "bs = 64\n",
    "lr = 0.01\n",
    "stdev = 0.1\n",
    "e = 20\n",
    "\n",
    "original_dim = 32\n",
    "input_shape = (original_dim, )\n",
    "intermediate_dim = 16\n",
    "latent_dim = 8"
   ]
  },
  {
   "cell_type": "code",
   "execution_count": 39,
   "metadata": {},
   "outputs": [],
   "source": [
    "def sampling(args):\n",
    "    z_mean, z_log_var = args\n",
    "    batch = K.shape(z_mean)[0]\n",
    "    dim = K.int_shape(z_mean)[1]\n",
    "    # by default, random_normal has mean = 0 and std = 1.0\n",
    "    epsilon = K.random_normal(shape=(batch, dim), stddev=stdev)\n",
    "    return z_mean + K.exp(0.5 * z_log_var) * epsilon\n",
    "\n",
    "# ENCODER\n",
    "inputs = Input(shape=input_shape, name='encoder_input')\n",
    "x = Dense(intermediate_dim, activation='relu')(inputs)\n",
    "x = BatchNormalization()(x)\n",
    "z_mean = Dense(latent_dim, name='z_mean')(x)\n",
    "z_log_var = Dense(latent_dim, name='z_log_var')(x)\n",
    "z = Lambda(sampling, output_shape=(latent_dim,), name='z')([z_mean, z_log_var])\n",
    "encoder = Model(inputs, [z_mean, z_log_var, z], name='encoder')\n",
    "# encoder.summary()\n",
    "\n",
    "# DECODER\n",
    "latent_inputs = Input(shape=(latent_dim,), name='z_sampling')\n",
    "x = Dense(intermediate_dim, activation='relu')(latent_inputs)\n",
    "x = BatchNormalization()(x)\n",
    "outputs = Dense(original_dim, activation='sigmoid')(x)\n",
    "decoder = Model(latent_inputs, outputs, name='decoder')\n",
    "# decoder.summary()\n",
    "\n",
    "# VAE\n",
    "outputs = decoder(encoder(inputs)[2])\n",
    "vae = Model(inputs, outputs, name='vae_mlp')\n",
    "# vae.summary()\n",
    "\n",
    "# LOSS FUNCTION\n",
    "reconstruction_loss = MSE(inputs, outputs)\n",
    "reconstruction_loss *= original_dim\n",
    "kl_loss = 1 + z_log_var - K.square(z_mean) - K.exp(z_log_var)\n",
    "kl_loss = K.sum(kl_loss, axis=-1)\n",
    "kl_loss *= -0.5\n",
    "vae_loss = K.mean(reconstruction_loss + kl_loss)\n",
    "\n",
    "vae.add_loss(vae_loss)\n",
    "optimizer = Adam(lr)\n",
    "vae.compile(optimizer=optimizer)"
   ]
  },
  {
   "cell_type": "code",
   "execution_count": 40,
   "metadata": {},
   "outputs": [
    {
     "name": "stdout",
     "output_type": "stream",
     "text": [
      "Epoch 1/10\n",
      "1000/1000 [==============================] - 1s 1ms/step - loss: 0.3132\n",
      "Epoch 2/10\n",
      "1000/1000 [==============================] - 1s 1ms/step - loss: 0.2625\n",
      "Epoch 3/10\n",
      "1000/1000 [==============================] - 1s 1ms/step - loss: 0.2593\n",
      "Epoch 4/10\n",
      "1000/1000 [==============================] - 1s 1ms/step - loss: 0.2649\n",
      "Epoch 5/10\n",
      "1000/1000 [==============================] - 1s 1ms/step - loss: 0.2607\n",
      "Epoch 6/10\n",
      "1000/1000 [==============================] - 1s 1ms/step - loss: 0.2640\n",
      "Epoch 7/10\n",
      "1000/1000 [==============================] - 1s 1ms/step - loss: 0.2604\n",
      "Epoch 8/10\n",
      "1000/1000 [==============================] - 1s 1ms/step - loss: 0.2595\n",
      "Epoch 9/10\n",
      "1000/1000 [==============================] - 1s 1ms/step - loss: 0.2611\n",
      "Epoch 10/10\n",
      "1000/1000 [==============================] - 1s 1ms/step - loss: 0.2607\n"
     ]
    }
   ],
   "source": [
    "# FIT MODEL\n",
    "hist = vae.fit(x_train,\n",
    "               verbose=1,\n",
    "               epochs=10,\n",
    "               batch_size=bs)"
   ]
  },
  {
   "cell_type": "code",
   "execution_count": 41,
   "metadata": {},
   "outputs": [
    {
     "data": {
      "text/plain": [
       "<matplotlib.collections.PathCollection at 0x24208f81128>"
      ]
     },
     "execution_count": 41,
     "metadata": {},
     "output_type": "execute_result"
    },
    {
     "data": {
      "image/png": "[encoded data removed]",
      "text/plain": [
       "<Figure size 864x576 with 1 Axes>"
      ]
     },
     "metadata": {
      "needs_background": "light"
     },
     "output_type": "display_data"
    }
   ],
   "source": [
    "# EVALUATE MODEL\n",
    "z_mean, _, _ = encoder.predict(x_train, batch_size=bs)\n",
    "# db_score = round(davies_bouldin_score(z_mean, y_train), 2)\n",
    "# ch_score = round(calinski_harabasz_score(z_mean, y_train), 2)\n",
    "loss = round(hist.history['loss'][0], 2)\n",
    "z_mean = PCA(n_components=2).fit_transform(z_mean)\n",
    "# print(f\"DB: {db_score}, CH: {ch_score}, LOSS: {loss}\")\n",
    "# db_score = round(davies_bouldin_score(z_mean, y_train), 2)\n",
    "# ch_score = round(calinski_harabasz_score(z_mean, y_train), 2)\n",
    "# print(f\"DB: {db_score}, CH: {ch_score}, LOSS: {loss}\")\n",
    "\n",
    "# SAVE MODEL AND RESULTS\n",
    "# directory = \"LINE_DETECTOR_VAE_MLP_RESULTS/\" + f\"LOSS{loss}_DBS{db_score}_CHS{ch_score}_LATENT{latent_dim}_STDEV{stdev}_BS{bs}_E{e}_LR{lr}\"\n",
    "# os.mkdir(directory)\n",
    "# vae.save(f'{directory}/vae.h5', save_format=\"tf\")\n",
    "plt.figure(figsize=(12,8))\n",
    "plt.scatter(z_mean[:, 0], z_mean[:, 1])\n",
    "# plt.savefig(f\"{directory}/LATENT_SPACE.png\")\n",
    "# plt.close('all')"
   ]
  },
  {
   "cell_type": "code",
   "execution_count": null,
   "metadata": {},
   "outputs": [],
   "source": []
  },
  {
   "cell_type": "code",
   "execution_count": null,
   "metadata": {},
   "outputs": [],
   "source": []
  }
 ],
 "metadata": {
  "kernelspec": {
   "display_name": "Python 3",
   "language": "python",
   "name": "python3"
  },
  "language_info": {
   "codemirror_mode": {
    "name": "ipython",
    "version": 3
   },
   "file_extension": ".py",
   "mimetype": "text/x-python",
   "name": "python",
   "nbconvert_exporter": "python",
   "pygments_lexer": "ipython3",
   "version": "3.7.3"
  }
 },
 "nbformat": 4,
 "nbformat_minor": 4
}
